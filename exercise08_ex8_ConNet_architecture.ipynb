{
  "nbformat": 4,
  "nbformat_minor": 0,
  "metadata": {
    "kernelspec": {
      "name": "python3",
      "display_name": "Python 3"
    },
    "language_info": {
      "codemirror_mode": {
        "name": "ipython",
        "version": 3
      },
      "file_extension": ".py",
      "mimetype": "text/x-python",
      "name": "python",
      "nbconvert_exporter": "python",
      "pygments_lexer": "ipython3",
      "version": "3.5.2"
    },
    "colab": {
      "name": "ex8_ConNet_architecture.ipynb",
      "provenance": [],
      "collapsed_sections": []
    },
    "accelerator": "GPU"
  },
  "cells": [
    {
      "cell_type": "markdown",
      "metadata": {
        "id": "eHw4RCWQ-snU",
        "colab_type": "text"
      },
      "source": [
        "# Exercise 8\n",
        "This exercise focuses on CNN architectures. We'll continue using Pytorch.\n",
        "\n",
        "We will:\n",
        "\n",
        "- Implement basic architectures.\n",
        "- Experiment with architectures, hyperparameters and batch normalization.\n",
        "- Design and implement a Convolutional network that improves classification accuracy."
      ]
    },
    {
      "cell_type": "code",
      "metadata": {
        "id": "IZN2xtvB-snX",
        "colab_type": "code",
        "colab": {}
      },
      "source": [
        "import torch\n",
        "import torch.nn as nn\n",
        "import torch.nn.functional as F\n",
        "import torch.optim as optim\n",
        "from torch.utils.data import DataLoader\n",
        "\n",
        "import torchvision\n",
        "import torchvision.transforms as transforms\n",
        "\n",
        "import matplotlib.pyplot as plt\n",
        "import numpy as np"
      ],
      "execution_count": 0,
      "outputs": []
    },
    {
      "cell_type": "markdown",
      "metadata": {
        "id": "U8I0gvih-sna",
        "colab_type": "text"
      },
      "source": [
        "### Loading and normalizing the CIFAR10 dataset\n",
        "\n",
        "The CIFAR-10 dataset consists of 60000 colour images in 10 classes, 50,000 training images and 10,000 test images of size 32 x 32.\n",
        "\n",
        "https://www.cs.toronto.edu/~kriz/cifar.html\n",
        "\n",
        "\n",
        "The pytorch provides a package called torchvision, that automatically download the CIFAR-10 dataset, preprocess it, and iterate through it in minibatches.\n"
      ]
    },
    {
      "cell_type": "code",
      "metadata": {
        "id": "WsBBtitY-snc",
        "colab_type": "code",
        "outputId": "6be5e4f7-4b20-4949-db98-88dcd14e979f",
        "colab": {
          "base_uri": "https://localhost:8080/",
          "height": 87
        }
      },
      "source": [
        "batch_size = 4\n",
        "\n",
        "transform = transforms.Compose([\n",
        "                transforms.ToTensor(),\n",
        "                transforms.Normalize((0.5, 0.5, 0.5), (0.5, 0.5, 0.5))])\n",
        "\n",
        "trainset = torchvision.datasets.CIFAR10(root='./data', train=True,\n",
        "                                        download=True, transform=transform)\n",
        "trainloader = torch.utils.data.DataLoader(trainset, batch_size=batch_size,\n",
        "                                          shuffle=True, num_workers=2)\n",
        "\n",
        "testset = torchvision.datasets.CIFAR10(root='./data', train=False,\n",
        "                                       download=True, transform=transform)\n",
        "testloader = torch.utils.data.DataLoader(testset, batch_size=batch_size,\n",
        "                                         shuffle=False, num_workers=2)\n",
        "\n",
        "classes = ('plane', 'car', 'bird', 'cat',\n",
        "           'deer', 'dog', 'frog', 'horse', 'ship', 'truck')"
      ],
      "execution_count": 4,
      "outputs": [
        {
          "output_type": "stream",
          "text": [
            "\r0it [00:00, ?it/s]"
          ],
          "name": "stderr"
        },
        {
          "output_type": "stream",
          "text": [
            "Downloading https://www.cs.toronto.edu/~kriz/cifar-10-python.tar.gz to ./data/cifar-10-python.tar.gz\n"
          ],
          "name": "stdout"
        },
        {
          "output_type": "stream",
          "text": [
            "170500096it [00:06, 27098928.56it/s]                               \n"
          ],
          "name": "stderr"
        },
        {
          "output_type": "stream",
          "text": [
            "Extracting ./data/cifar-10-python.tar.gz to ./data\n",
            "Files already downloaded and verified\n"
          ],
          "name": "stdout"
        }
      ]
    },
    {
      "cell_type": "code",
      "metadata": {
        "id": "du9mTki6-sne",
        "colab_type": "code",
        "outputId": "6fdf0140-63ed-42d1-84ab-b1d2330d21e9",
        "colab": {
          "base_uri": "https://localhost:8080/",
          "height": 155
        }
      },
      "source": [
        "# get some random training images\n",
        "dataiter = iter(trainloader)\n",
        "images, labels = dataiter.next()\n",
        "\n",
        "img = torchvision.utils.make_grid(images[:4,:,:,:])\n",
        "\n",
        "# show images\n",
        "img = img / 2 + 0.5     # unnormalize\n",
        "npimg = img.numpy()\n",
        "plt.imshow(np.transpose(npimg, (1, 2, 0)))\n",
        "plt.show()\n",
        "\n",
        "# print labels\n",
        "print(' '.join('%5s' % classes[labels[j]] for j in range(4)))\n",
        "\n"
      ],
      "execution_count": 5,
      "outputs": [
        {
          "output_type": "display_data",
          "data": {
            "image/png": "[encoded data removed]",
            "text/plain": [
              "<Figure size 432x288 with 1 Axes>"
            ]
          },
          "metadata": {
            "tags": []
          }
        },
        {
          "output_type": "stream",
          "text": [
            " deer  deer plane   car\n"
          ],
          "name": "stdout"
        }
      ]
    },
    {
      "cell_type": "markdown",
      "metadata": {
        "id": "BXowBdM--snh",
        "colab_type": "text"
      },
      "source": [
        "### Define a Convolutional Neural Network\n",
        "\n",
        "A simple Convolutional Network is a sequence of layers. The most used layers to build ConvNets are Convolutional Layer, Pooling Layer, and Fully-Connected Layer.\n",
        "\n",
        "Your job is to stack the three main types of layers to form a full ConvNet architecture following the pattern in CIFAR-10:\n",
        "\n",
        " [INPUT - CONV - RELU - POOL - FC]\n",
        " \n",
        "* INPUT [32x32x3]: the RGB raw pixel values of the image.\n",
        "* CONV Convolutional layer with 3 filters and filter size 5 (use padding value 2 to preserve the input dimension).\n",
        "* RELU applies an elementwise activation function.\n",
        "* POOL downsampling operation through the spatial dimensions kernel size = 2.\n",
        "* FC fully-connected layer that computes the class scores, with output size [1x1x10], where each of the 10 numbers corresponds to a class score. Each neuron in this layer will be connected to all the numbers in the previous volume.\n",
        "\n",
        "Implement the `forward` function, remember that the `backward` pass is computed automatically in Pytorch\n",
        "\n"
      ]
    },
    {
      "cell_type": "code",
      "metadata": {
        "id": "_ZPCMOYJ-snh",
        "colab_type": "code",
        "outputId": "2dcc771e-f9af-4a09-bc30-0940294f3c0d",
        "colab": {
          "base_uri": "https://localhost:8080/",
          "height": 105
        }
      },
      "source": [
        "Nfilters = 3\n",
        "Ksize = 5\n",
        "padding = 2\n",
        "class ConvNet1(nn.Module):\n",
        "    \"\"\"\n",
        "        The CNN convolutional network with architecture defined above\n",
        "    \"\"\"\n",
        "    def __init__(self):\n",
        "        super().__init__()\n",
        "        # START TODO #############\n",
        "        # initialize required parameters / layers needed to build the network\n",
        "        self.conv1 = nn.Conv2d(3, Nfilters, kernel_size= Ksize , stride=1 , padding=padding)                           \n",
        "        self.pool = nn.MaxPool2d(2, 2)\n",
        "        self.fc1 = nn.Linear(768, 10)\n",
        "        \n",
        "        # END TODO #############\n",
        "\n",
        "\n",
        "    def forward(self, x):\n",
        "        \"\"\"\n",
        "        \n",
        "        Args:\n",
        "            x: The input tensor with shape [batch_size, feature_dim] (minibatch of data)\n",
        "        Returns:\n",
        "            scores: Pytorch tensor of shape (N, C) giving classification scores for x\n",
        "        \"\"\"\n",
        "        # START TODO #############\n",
        "        \n",
        "        # Remember to flatten the feature map using:\n",
        "        # x = x.view(batch_size, dim)\n",
        "        x = F.relu(self.conv1(x))\n",
        "        x = self.pool(x)\n",
        "        x = x.view(x.shape[0], -1)\n",
        "        x = self.fc1(x)\n",
        "        # END TODO #############\n",
        "\n",
        "        return x\n",
        "\n",
        "net = ConvNet1()\n",
        "print(net)"
      ],
      "execution_count": 0,
      "outputs": [
        {
          "output_type": "stream",
          "text": [
            "ConvNet1(\n",
            "  (conv1): Conv2d(3, 3, kernel_size=(5, 5), stride=(1, 1), padding=(2, 2))\n",
            "  (pool): MaxPool2d(kernel_size=2, stride=2, padding=0, dilation=1, ceil_mode=False)\n",
            "  (fc1): Linear(in_features=768, out_features=10, bias=True)\n",
            ")\n"
          ],
          "name": "stdout"
        }
      ]
    },
    {
      "cell_type": "markdown",
      "metadata": {
        "id": "6oE6pvO--snj",
        "colab_type": "text"
      },
      "source": [
        "Now let's train and see the result of the network. If your implementation is correct, you should get around 47% accuracy."
      ]
    },
    {
      "cell_type": "code",
      "metadata": {
        "id": "TEHu9oEa-snk",
        "colab_type": "code",
        "outputId": "46512c29-0f3f-4f76-b120-317f4d72f6cb",
        "colab": {
          "base_uri": "https://localhost:8080/",
          "height": 478
        }
      },
      "source": [
        "# Define a Loss function and optimizer\n",
        "criterion = nn.CrossEntropyLoss()\n",
        "optimizer = optim.SGD(net.parameters(), lr=0.001, momentum=0.9)\n",
        "\n",
        "# Train the network\n",
        "for epoch in range(2):\n",
        "\n",
        "    running_loss = 0.0\n",
        "    for i, data in enumerate(trainloader, 0):\n",
        "        inputs, labels = data\n",
        "        optimizer.zero_grad()\n",
        "        outputs = net(inputs)\n",
        "        loss = criterion(outputs, labels)\n",
        "        loss.backward()\n",
        "        optimizer.step()\n",
        "        running_loss += loss.item()\n",
        "        if i % 1000 == 999:    # print every 1000 mini-batches\n",
        "            print('[%d, %5d] loss: %.3f' %\n",
        "                  (epoch + 1, i + 1, running_loss / 2000))\n",
        "            running_loss = 0.0\n",
        "print('Finished Training')\n",
        "\n",
        "correct = 0\n",
        "total = 0\n",
        "with torch.no_grad():\n",
        "    for data in testloader:\n",
        "        images, labels = data\n",
        "        outputs = net(images)\n",
        "        _, predicted = torch.max(outputs.data, 1)\n",
        "        total += labels.size(0)\n",
        "        correct += (predicted == labels).sum().item()\n",
        "\n",
        "print('Accuracy of the network on the 10000 test images: %d %%' % (\n",
        "    100 * correct / total))"
      ],
      "execution_count": 0,
      "outputs": [
        {
          "output_type": "stream",
          "text": [
            "[1,  1000] loss: 1.007\n",
            "[1,  2000] loss: 0.883\n",
            "[1,  3000] loss: 0.852\n",
            "[1,  4000] loss: 0.832\n",
            "[1,  5000] loss: 0.825\n",
            "[1,  6000] loss: 0.819\n",
            "[1,  7000] loss: 0.799\n",
            "[1,  8000] loss: 0.799\n",
            "[1,  9000] loss: 0.801\n",
            "[1, 10000] loss: 0.790\n",
            "[1, 11000] loss: 0.773\n",
            "[1, 12000] loss: 0.788\n",
            "[2,  1000] loss: 0.741\n",
            "[2,  2000] loss: 0.753\n",
            "[2,  3000] loss: 0.760\n",
            "[2,  4000] loss: 0.750\n",
            "[2,  5000] loss: 0.755\n",
            "[2,  6000] loss: 0.750\n",
            "[2,  7000] loss: 0.747\n",
            "[2,  8000] loss: 0.769\n",
            "[2,  9000] loss: 0.749\n",
            "[2, 10000] loss: 0.752\n",
            "[2, 11000] loss: 0.756\n",
            "[2, 12000] loss: 0.756\n",
            "Finished Training\n",
            "Accuracy of the network on the 10000 test images: 49 %\n"
          ],
          "name": "stdout"
        }
      ]
    },
    {
      "cell_type": "markdown",
      "metadata": {
        "id": "jt1mB2WC-snn",
        "colab_type": "text"
      },
      "source": [
        "### Changing the parameters of the network - Number of filters\n",
        "\n",
        "Use the previous ConvNet and change the number of filters used in the convolutional layer.\n",
        "\n",
        "(16 or 32 are good options to try!)\n",
        "\n",
        "Describe what happens when you change the number of filters. Do more or fewer do better?\n",
        "\n",
        "**Answer**:  \n",
        "**TODO**  \n",
        "The accuracy improved by 12%. Increasing the number of filters improved the performance. Using a larger number of filters results in a more powerful model, however we face an increased risk of overfitting. Therefore, it is advisable to start with small number and then increase it step by step."
      ]
    },
    {
      "cell_type": "code",
      "metadata": {
        "id": "yFiV5jco-sno",
        "colab_type": "code",
        "outputId": "eb382d93-225e-4e76-ae64-80aa0b2fac1f",
        "colab": {
          "base_uri": "https://localhost:8080/",
          "height": 123
        }
      },
      "source": [
        "Nfilters = 16 # also try 32\n",
        "Ksize = 5\n",
        "padding = 2\n",
        "class ConvNet2(nn.Module):\n",
        "    \"\"\"\n",
        "        The CNN convolutional network with architecture defined above\n",
        "    \"\"\"\n",
        "    def __init__(self):\n",
        "        super().__init__()\n",
        "        # START TODO #############\n",
        "        self.conv1 = nn.Conv2d(3, Nfilters, kernel_size= Ksize , stride=1 , padding=padding)                           \n",
        "        self.relu = nn.ReLU()\n",
        "        self.pool = nn.MaxPool2d(2,2)\n",
        "        self.fc1 = nn.Linear(16*16*Nfilters, 10)\n",
        "        # END TODO #############\n",
        "\n",
        "    def forward(self, x):\n",
        "        \"\"\"\n",
        "        Args:\n",
        "            x: The input tensor with shape (batch_size, feature_dim)\n",
        "            The input to the network will be a minibatch of data\n",
        "                \n",
        "        Returns:\n",
        "            scores: PyTorch Tensor of shape (N, C) giving classification scores for x\n",
        "        \"\"\"\n",
        "        # START TODO #############\n",
        "        x = F.relu(self.conv1(x))\n",
        "        x = self.pool(x)\n",
        "        x = x.view(x.shape[0], -1)\n",
        "        x = self.fc1(x)\n",
        "        # END TODO #############\n",
        "        return x\n",
        "\n",
        "net = ConvNet2()\n",
        "print(net)"
      ],
      "execution_count": 0,
      "outputs": [
        {
          "output_type": "stream",
          "text": [
            "ConvNet2(\n",
            "  (conv1): Conv2d(3, 16, kernel_size=(5, 5), stride=(1, 1), padding=(2, 2))\n",
            "  (relu): ReLU()\n",
            "  (pool): MaxPool2d(kernel_size=2, stride=2, padding=0, dilation=1, ceil_mode=False)\n",
            "  (fc1): Linear(in_features=4096, out_features=10, bias=True)\n",
            ")\n"
          ],
          "name": "stdout"
        }
      ]
    },
    {
      "cell_type": "code",
      "metadata": {
        "id": "mK29cSA--snr",
        "colab_type": "code",
        "outputId": "c9b9c338-043a-48b5-b3dc-947b7782e99f",
        "colab": {
          "base_uri": "https://localhost:8080/",
          "height": 478
        }
      },
      "source": [
        "# Define a Loss function and optimizer\n",
        "criterion = nn.CrossEntropyLoss()\n",
        "optimizer = optim.SGD(net.parameters(), lr=0.001, momentum=0.9)\n",
        "\n",
        "# Train the network\n",
        "for epoch in range(2):\n",
        "\n",
        "    running_loss = 0.0\n",
        "    for i, data in enumerate(trainloader, 0):\n",
        "        inputs, labels = data\n",
        "        optimizer.zero_grad()\n",
        "        outputs = net(inputs)\n",
        "        loss = criterion(outputs, labels)\n",
        "        loss.backward()\n",
        "        optimizer.step()\n",
        "        running_loss += loss.item()\n",
        "        if i % 1000 == 999:    # print every 1000 mini-batches\n",
        "            print('[%d, %5d] loss: %.3f' %\n",
        "                  (epoch + 1, i + 1, running_loss / 2000))\n",
        "            running_loss = 0.0\n",
        "print('Finished Training')\n",
        "\n",
        "correct = 0\n",
        "total = 0\n",
        "with torch.no_grad():\n",
        "    for data in testloader:\n",
        "        images, labels = data\n",
        "        outputs = net(images)\n",
        "        _, predicted = torch.max(outputs.data, 1)\n",
        "        total += labels.size(0)\n",
        "        correct += (predicted == labels).sum().item()\n",
        "\n",
        "print('Accuracy of the network on the 10000 test images: %d %%' % (\n",
        "    100 * correct / total))"
      ],
      "execution_count": 0,
      "outputs": [
        {
          "output_type": "stream",
          "text": [
            "[1,  1000] loss: 0.947\n",
            "[1,  2000] loss: 0.799\n",
            "[1,  3000] loss: 0.777\n",
            "[1,  4000] loss: 0.746\n",
            "[1,  5000] loss: 0.711\n",
            "[1,  6000] loss: 0.689\n",
            "[1,  7000] loss: 0.673\n",
            "[1,  8000] loss: 0.677\n",
            "[1,  9000] loss: 0.658\n",
            "[1, 10000] loss: 0.658\n",
            "[1, 11000] loss: 0.660\n",
            "[1, 12000] loss: 0.649\n",
            "[2,  1000] loss: 0.588\n",
            "[2,  2000] loss: 0.590\n",
            "[2,  3000] loss: 0.595\n",
            "[2,  4000] loss: 0.598\n",
            "[2,  5000] loss: 0.609\n",
            "[2,  6000] loss: 0.603\n",
            "[2,  7000] loss: 0.590\n",
            "[2,  8000] loss: 0.615\n",
            "[2,  9000] loss: 0.590\n",
            "[2, 10000] loss: 0.580\n",
            "[2, 11000] loss: 0.579\n",
            "[2, 12000] loss: 0.586\n",
            "Finished Training\n",
            "Accuracy of the network on the 10000 test images: 61 %\n"
          ],
          "name": "stdout"
        }
      ]
    },
    {
      "cell_type": "markdown",
      "metadata": {
        "id": "VazHlUfi-snt",
        "colab_type": "text"
      },
      "source": [
        "### Changing the parameters of the network - Filter size\n",
        "\n",
        "The filter size in the last network we use 5x5 filters, now use 3x3 filters and describe what happens, is the network more efficient?\n",
        "\n",
        "**Answer**:  \n",
        "**TODO**  \n",
        "The accuracy decreased. So the network is less efficient. Using smaller filter means the receptive field is smaller. This causes the network to capture smaller, more complex features in the image. However, we lose the general overview of the image. This means that the network is less likely to understand the context of the image.\n",
        "\n"
      ]
    },
    {
      "cell_type": "code",
      "metadata": {
        "id": "mIFoqJxG-snu",
        "colab_type": "code",
        "outputId": "6c95378a-67d4-458d-a143-5661023825e7",
        "colab": {
          "base_uri": "https://localhost:8080/",
          "height": 123
        }
      },
      "source": [
        "Nfilters = 16\n",
        "Ksize = 3\n",
        "padding = 1\n",
        "class ConvNet3(nn.Module):\n",
        "    \"\"\"\n",
        "        The CNN convolutional network with architecture defined above\n",
        "    \"\"\"\n",
        "    def __init__(self):\n",
        "        super().__init__()\n",
        "        # START TODO #############\n",
        "        # Define the layers need to build the network\n",
        "        self.conv1 = nn.Conv2d(3, Nfilters, kernel_size= Ksize , stride=1 , padding=padding)                           \n",
        "        self.relu = nn.ReLU()\n",
        "        self.pool = nn.MaxPool2d(2,2)\n",
        "        self.fc1 = nn.Linear(4096, 10)\n",
        "        # END TODO #############\n",
        "\n",
        "    def forward(self, x):\n",
        "        \"\"\"\n",
        "        \n",
        "        Args:\n",
        "            x: The input tensor with shape (batch_size, feature_dim)\n",
        "            The input to the network will be a minibatch of data\n",
        "                \n",
        "        Returns:\n",
        "            scores: PyTorch Tensor of shape (N, C) giving classification scores for x\n",
        "        \"\"\"\n",
        "        # START TODO #############\n",
        "        \n",
        "        # Remember to flatten the feature map using x.view\n",
        "        # must have dimentions: N, \n",
        "        x = F.relu(self.conv1(x))\n",
        "        x = self.pool(x)\n",
        "        x = x.view(x.shape[0], -1)\n",
        "        x = self.fc1(x)\n",
        "        # END TODO #############\n",
        "        return x\n",
        "\n",
        "net = ConvNet3().to('cuda')\n",
        "print(net)"
      ],
      "execution_count": 0,
      "outputs": [
        {
          "output_type": "stream",
          "text": [
            "ConvNet3(\n",
            "  (conv1): Conv2d(3, 16, kernel_size=(3, 3), stride=(1, 1), padding=(1, 1))\n",
            "  (relu): ReLU()\n",
            "  (pool): MaxPool2d(kernel_size=2, stride=2, padding=0, dilation=1, ceil_mode=False)\n",
            "  (fc1): Linear(in_features=4096, out_features=10, bias=True)\n",
            ")\n"
          ],
          "name": "stdout"
        }
      ]
    },
    {
      "cell_type": "code",
      "metadata": {
        "id": "kf0yPN-e-sny",
        "colab_type": "code",
        "outputId": "4243c4e9-8566-49c5-8545-fd22b57a7347",
        "colab": {
          "base_uri": "https://localhost:8080/",
          "height": 478
        }
      },
      "source": [
        "# Define a Loss function and optimizer\n",
        "criterion = nn.CrossEntropyLoss()\n",
        "optimizer = optim.SGD(net.parameters(), lr=0.001, momentum=0.9)\n",
        "\n",
        "# Train the network\n",
        "for epoch in range(2):\n",
        "\n",
        "    running_loss = 0.0\n",
        "    for i, data in enumerate(trainloader, 0):\n",
        "        inputs, labels = data\n",
        "        optimizer.zero_grad()\n",
        "        outputs = net(inputs.to('cuda')).cpu()\n",
        "        loss = criterion(outputs, labels)\n",
        "        loss.backward()\n",
        "        optimizer.step()\n",
        "        running_loss += loss.item()\n",
        "        if i % 1000 == 999:    # print every 1000 mini-batches\n",
        "            print('[%d, %5d] loss: %.3f' %\n",
        "                  (epoch + 1, i + 1, running_loss / 2000))\n",
        "            running_loss = 0.0\n",
        "print('Finished Training')\n",
        "\n",
        "correct = 0\n",
        "total = 0\n",
        "with torch.no_grad():\n",
        "    for data in testloader:\n",
        "        images, labels = data\n",
        "        outputs = net(images.to('cuda')).cpu()\n",
        "        _, predicted = torch.max(outputs.data, 1)\n",
        "        total += labels.size(0)\n",
        "        correct += (predicted == labels).sum().item()\n",
        "\n",
        "print('Accuracy of the network on the 10000 test images: %d %%' % (\n",
        "    100 * correct / total))"
      ],
      "execution_count": 0,
      "outputs": [
        {
          "output_type": "stream",
          "text": [
            "[1,  1000] loss: 0.948\n",
            "[1,  2000] loss: 0.818\n",
            "[1,  3000] loss: 0.775\n",
            "[1,  4000] loss: 0.741\n",
            "[1,  5000] loss: 0.719\n",
            "[1,  6000] loss: 0.704\n",
            "[1,  7000] loss: 0.689\n",
            "[1,  8000] loss: 0.684\n",
            "[1,  9000] loss: 0.675\n",
            "[1, 10000] loss: 0.664\n",
            "[1, 11000] loss: 0.651\n",
            "[1, 12000] loss: 0.646\n",
            "[2,  1000] loss: 0.604\n",
            "[2,  2000] loss: 0.595\n",
            "[2,  3000] loss: 0.600\n",
            "[2,  4000] loss: 0.607\n",
            "[2,  5000] loss: 0.599\n",
            "[2,  6000] loss: 0.616\n",
            "[2,  7000] loss: 0.590\n",
            "[2,  8000] loss: 0.598\n",
            "[2,  9000] loss: 0.583\n",
            "[2, 10000] loss: 0.576\n",
            "[2, 11000] loss: 0.594\n",
            "[2, 12000] loss: 0.596\n",
            "Finished Training\n",
            "Accuracy of the network on the 10000 test images: 53 %\n"
          ],
          "name": "stdout"
        }
      ]
    },
    {
      "cell_type": "markdown",
      "metadata": {
        "id": "_qiIIfyG-sn0",
        "colab_type": "text"
      },
      "source": [
        "### Batch normalization\n",
        "\n",
        "Include batch normalization and describe what happens, is the network more efficient?\n",
        "\n",
        "**Answer**:  \n",
        "**TODO**  \n",
        "Yes, the network is more efficient.\n",
        "Batch normalization enables faster and more stable training of a deep neural network. It standardizes the activations from the previous layer. This has the effect of standardizing the learning process.\n",
        "\n"
      ]
    },
    {
      "cell_type": "code",
      "metadata": {
        "id": "tkpYSwjB-sn1",
        "colab_type": "code",
        "outputId": "3cd2bdaa-5a7b-44a2-9cfb-b006a248107f",
        "colab": {
          "base_uri": "https://localhost:8080/",
          "height": 141
        }
      },
      "source": [
        "Nfilters = 16\n",
        "Ksize = 3\n",
        "padding = 1\n",
        "class ConvNet4(nn.Module):\n",
        "    \"\"\"\n",
        "        The CNN convolutional network with architecture defined above\n",
        "    \"\"\"\n",
        "    def __init__(self):\n",
        "        super().__init__()\n",
        "        # START TODO #############\n",
        "        # Define the layers need to build the network\n",
        "\n",
        "        self.conv1 = nn.Conv2d(3, Nfilters, kernel_size= Ksize , stride=1 , padding=padding)  \n",
        "        self.relu = nn.ReLU()\n",
        "        self.bn = nn.BatchNorm2d(num_features=Nfilters)                         \n",
        "        \n",
        "        self.pool = nn.MaxPool2d(2,2)\n",
        "        self.fc1 = nn.Linear(4096, 10)\n",
        "\n",
        "        # END TODO #############\n",
        "\n",
        "    def forward(self, x):\n",
        "        \"\"\"\n",
        "        \n",
        "        Args:\n",
        "            x: The input tensor with shape (batch_size, feature_dim)\n",
        "            The input to the network will be a minibatch of data\n",
        "                \n",
        "        Returns:\n",
        "            scores: PyTorch Tensor of shape (N, C) giving classification scores for x\n",
        "        \"\"\"\n",
        "        # START TODO #############\n",
        "        x = F.relu(self.conv1(x))\n",
        "        x = self.bn(x)\n",
        "        x = self.pool(x)\n",
        "        x = x.view(x.shape[0], -1)\n",
        "        x = self.fc1(x)\n",
        "        # Remember to flatten the feature map using x.view\n",
        "        # must have dimentions: N, \n",
        "        \n",
        "        # END TODO #############\n",
        "        return x\n",
        "\n",
        "net = ConvNet4()\n",
        "print(net)"
      ],
      "execution_count": 0,
      "outputs": [
        {
          "output_type": "stream",
          "text": [
            "ConvNet4(\n",
            "  (conv1): Conv2d(3, 16, kernel_size=(3, 3), stride=(1, 1), padding=(1, 1))\n",
            "  (relu): ReLU()\n",
            "  (bn): BatchNorm2d(16, eps=1e-05, momentum=0.1, affine=True, track_running_stats=True)\n",
            "  (pool): MaxPool2d(kernel_size=2, stride=2, padding=0, dilation=1, ceil_mode=False)\n",
            "  (fc1): Linear(in_features=4096, out_features=10, bias=True)\n",
            ")\n"
          ],
          "name": "stdout"
        }
      ]
    },
    {
      "cell_type": "code",
      "metadata": {
        "id": "8XbkgK7i-sn4",
        "colab_type": "code",
        "outputId": "d6504f6e-7ef8-40be-f27b-e001aa5073dd",
        "colab": {
          "base_uri": "https://localhost:8080/",
          "height": 478
        }
      },
      "source": [
        "# Define a Loss function and optimizer\n",
        "criterion = nn.CrossEntropyLoss()\n",
        "optimizer = optim.SGD(net.parameters(), lr=0.001, momentum=0.9)\n",
        "\n",
        "# Train the network\n",
        "for epoch in range(2):\n",
        "\n",
        "    running_loss = 0.0\n",
        "    for i, data in enumerate(trainloader, 0):\n",
        "        inputs, labels = data\n",
        "        optimizer.zero_grad()\n",
        "        outputs = net(inputs)\n",
        "        loss = criterion(outputs, labels)\n",
        "        loss.backward()\n",
        "        optimizer.step()\n",
        "        running_loss += loss.item()\n",
        "        if i % 1000 == 999:    # print every 1000 mini-batches\n",
        "            print('[%d, %5d] loss: %.3f' %\n",
        "                  (epoch + 1, i + 1, running_loss / 2000))\n",
        "            running_loss = 0.0\n",
        "print('Finished Training')\n",
        "\n",
        "correct = 0\n",
        "total = 0\n",
        "with torch.no_grad():\n",
        "    for data in testloader:\n",
        "        images, labels = data\n",
        "        outputs = net(images)\n",
        "        _, predicted = torch.max(outputs.data, 1)\n",
        "        total += labels.size(0)\n",
        "        correct += (predicted == labels).sum().item()\n",
        "\n",
        "print('Accuracy of the network on the 10000 test images: %d %%' % (\n",
        "    100 * correct / total))"
      ],
      "execution_count": 0,
      "outputs": [
        {
          "output_type": "stream",
          "text": [
            "[1,  1000] loss: 1.128\n",
            "[1,  2000] loss: 0.819\n",
            "[1,  3000] loss: 0.765\n",
            "[1,  4000] loss: 0.741\n",
            "[1,  5000] loss: 0.711\n",
            "[1,  6000] loss: 0.700\n",
            "[1,  7000] loss: 0.702\n",
            "[1,  8000] loss: 0.671\n",
            "[1,  9000] loss: 0.688\n",
            "[1, 10000] loss: 0.675\n",
            "[1, 11000] loss: 0.639\n",
            "[1, 12000] loss: 0.647\n",
            "[2,  1000] loss: 0.610\n",
            "[2,  2000] loss: 0.624\n",
            "[2,  3000] loss: 0.619\n",
            "[2,  4000] loss: 0.629\n",
            "[2,  5000] loss: 0.629\n",
            "[2,  6000] loss: 0.632\n",
            "[2,  7000] loss: 0.622\n",
            "[2,  8000] loss: 0.605\n",
            "[2,  9000] loss: 0.627\n",
            "[2, 10000] loss: 0.619\n",
            "[2, 11000] loss: 0.616\n",
            "[2, 12000] loss: 0.608\n",
            "Finished Training\n",
            "Accuracy of the network on the 10000 test images: 57 %\n"
          ],
          "name": "stdout"
        }
      ]
    },
    {
      "cell_type": "markdown",
      "metadata": {
        "id": "WFdOFVwi-sn6",
        "colab_type": "text"
      },
      "source": [
        "Taking into account the previous results, design your own ConvNet to achieve at least 70% of accuracy in max 10 epochs.\n",
        "\n",
        "You can change the network architecture. The most common ConvNet architecture follows the pattern:\n",
        "\n",
        "INPUT -> [[CONV -> RELU]\\*N -> POOL?]\\*M -> [FC -> RELU]\\*K -> FC\n",
        "where the * indicates repetition, and the POOL? indicates an optional pooling layer. Moreover, N >= 0 (and usually N <= 3), M >= 0, K >= 0 (and usually K < 3)\n",
        "\n",
        "But consider that deeper networks will take a lot of time to train.\n",
        "\n",
        "You can also change the loss function and the optimizer.\n",
        "\n",
        "\n",
        "**Describe what you did:**  \n",
        "**TODO**  \n",
        "\n"
      ]
    },
    {
      "cell_type": "code",
      "metadata": {
        "id": "TWXl6e3p-sn7",
        "colab_type": "code",
        "outputId": "c3c6e395-87b1-41a5-fd2b-d8c515a1f9d0",
        "colab": {
          "base_uri": "https://localhost:8080/",
          "height": 194
        }
      },
      "source": [
        "Nfilters = 32\n",
        "Ksize = 3\n",
        "padding = 1\n",
        "class ConvNet5(nn.Module):\n",
        "    def __init__(self):\n",
        "        super().__init__()\n",
        "        # START TODO #############\n",
        "        # Define the layers need to build the network\n",
        "\n",
        "        # ## working with 68%\n",
        "        # self.conv1 = nn.Conv2d(3, 20, kernel_size= Ksize , stride=1 , padding=padding)  \n",
        "        \n",
        "\n",
        "        # self.conv2 = nn.Conv2d(20, 25, kernel_size= Ksize , stride=1 , padding=padding)  \n",
        "        \n",
        "        # self.conv3 = nn.Conv2d(25, Nfilters, kernel_size= Ksize , stride=1 , padding=padding)  \n",
        "        \n",
        "        \n",
        "        # self.pool = nn.MaxPool2d(kernel_size=2, stride=1, padding=0)\n",
        "\n",
        "        # self.fc1 = nn.Linear(30752, 1400)\n",
        "        \n",
        "        # self.fc2 = nn.Linear(1400, 128)\n",
        "        \n",
        "        # self.fc3 = nn.Linear(128, 10)\n",
        "\n",
        "        # try to improve\n",
        "\n",
        "        self.conv1 = nn.Conv2d(3, 20, kernel_size= Ksize , stride=1 , padding=padding)  \n",
        "        \n",
        "\n",
        "        self.conv2 = nn.Conv2d(20, 25, kernel_size= Ksize , stride=1 , padding=padding)  \n",
        "        \n",
        "        self.conv3 = nn.Conv2d(25, Nfilters, kernel_size= Ksize , stride=1 , padding=padding)  \n",
        "        \n",
        "        \n",
        "        self.pool = nn.MaxPool2d(kernel_size=2, stride=1, padding=0)\n",
        "\n",
        "        self.fc1 = nn.Linear(30752, 1400)\n",
        "        \n",
        "        self.fc2 = nn.Linear(1400, 150)\n",
        "        \n",
        "        self.fc3 = nn.Linear(150, 128)\n",
        "        self.fc4 = nn.Linear(128, 10)\n",
        "\n",
        "        # END TODO #############\n",
        "\n",
        "    def forward(self, x):\n",
        "        \"\"\"\n",
        "        \n",
        "        Args:\n",
        "            x: The input tensor with shape (batch_size, feature_dim)\n",
        "            The input to the network will be a minibatch of data\n",
        "                \n",
        "        Returns:\n",
        "            scores: PyTorch Tensor of shape (N, C) giving classification scores for x\n",
        "        \"\"\"\n",
        "        # START TODO #############\n",
        "        x = F.relu(self.conv1(x))\n",
        "        x = F.relu(self.conv2(x))\n",
        "        \n",
        "        x = F.relu(self.conv3(x))\n",
        "        \n",
        "        x = self.pool(x)\n",
        "        x = x.view(x.shape[0], -1)\n",
        "        x = F.relu(self.fc1(x))\n",
        "        x = F.relu(self.fc2(x))\n",
        "        x = F.relu(self.fc3(x))\n",
        "        \n",
        "        x = self.fc4(x)\n",
        "        \n",
        "            \n",
        "        # END TODO #############\n",
        "        return x\n",
        "\n",
        "\n",
        "net = ConvNet5().to('cuda')\n",
        "print(net)\n"
      ],
      "execution_count": 8,
      "outputs": [
        {
          "output_type": "stream",
          "text": [
            "ConvNet5(\n",
            "  (conv1): Conv2d(3, 20, kernel_size=(3, 3), stride=(1, 1), padding=(1, 1))\n",
            "  (conv2): Conv2d(20, 25, kernel_size=(3, 3), stride=(1, 1), padding=(1, 1))\n",
            "  (conv3): Conv2d(25, 32, kernel_size=(3, 3), stride=(1, 1), padding=(1, 1))\n",
            "  (pool): MaxPool2d(kernel_size=2, stride=1, padding=0, dilation=1, ceil_mode=False)\n",
            "  (fc1): Linear(in_features=30752, out_features=1400, bias=True)\n",
            "  (fc2): Linear(in_features=1400, out_features=150, bias=True)\n",
            "  (fc3): Linear(in_features=150, out_features=128, bias=True)\n",
            "  (fc4): Linear(in_features=128, out_features=10, bias=True)\n",
            ")\n"
          ],
          "name": "stdout"
        }
      ]
    },
    {
      "cell_type": "code",
      "metadata": {
        "id": "JvSkm18j-sn9",
        "colab_type": "code",
        "outputId": "8eca424e-fade-457d-9e26-df57cb753bb8",
        "colab": {
          "base_uri": "https://localhost:8080/",
          "height": 1000
        }
      },
      "source": [
        "criterion = nn.CrossEntropyLoss()\n",
        "optimizer = optim.SGD(net.parameters(), lr=0.001, momentum=0.9)\n",
        "\n",
        "# Train the network\n",
        "for epoch in range(10):\n",
        "\n",
        "    running_loss = 0.0\n",
        "    for i, data in enumerate(trainloader, 0):\n",
        "        inputs, labels = data\n",
        "        optimizer.zero_grad()\n",
        "        outputs = net(inputs.to('cuda')).cpu()\n",
        "        loss = criterion(outputs, labels)\n",
        "        loss.backward()\n",
        "        optimizer.step()\n",
        "        running_loss += loss.item()\n",
        "        if i % 1000 == 999:    # print every 1000 mini-batches\n",
        "            print('[%d, %5d] loss: %.3f' %\n",
        "                  (epoch + 1, i + 1, running_loss / 2000))\n",
        "            running_loss = 0.0\n",
        "print('Finished Training')\n",
        "\n",
        "correct = 0\n",
        "total = 0\n",
        "with torch.no_grad():\n",
        "    for data in testloader:\n",
        "        images, labels = data\n",
        "        outputs = net(images.to('cuda')).cpu()\n",
        "        _, predicted = torch.max(outputs.data, 1)\n",
        "        total += labels.size(0)\n",
        "        correct += (predicted == labels).sum().item()\n",
        "\n",
        "print('Accuracy of the network on the 10000 test images: %d %%' % (\n",
        "    100 * correct / total))"
      ],
      "execution_count": 9,
      "outputs": [
        {
          "output_type": "stream",
          "text": [
            "[1,  1000] loss: 1.140\n",
            "[1,  2000] loss: 1.023\n",
            "[1,  3000] loss: 0.966\n",
            "[1,  4000] loss: 0.896\n",
            "[1,  5000] loss: 0.841\n",
            "[1,  6000] loss: 0.801\n",
            "[1,  7000] loss: 0.776\n",
            "[1,  8000] loss: 0.738\n",
            "[1,  9000] loss: 0.726\n",
            "[1, 10000] loss: 0.701\n",
            "[1, 11000] loss: 0.685\n",
            "[1, 12000] loss: 0.652\n",
            "[2,  1000] loss: 0.628\n",
            "[2,  2000] loss: 0.602\n",
            "[2,  3000] loss: 0.582\n",
            "[2,  4000] loss: 0.591\n",
            "[2,  5000] loss: 0.566\n",
            "[2,  6000] loss: 0.562\n",
            "[2,  7000] loss: 0.551\n",
            "[2,  8000] loss: 0.539\n",
            "[2,  9000] loss: 0.540\n",
            "[2, 10000] loss: 0.519\n",
            "[2, 11000] loss: 0.510\n",
            "[2, 12000] loss: 0.510\n",
            "[3,  1000] loss: 0.404\n",
            "[3,  2000] loss: 0.406\n",
            "[3,  3000] loss: 0.415\n",
            "[3,  4000] loss: 0.398\n",
            "[3,  5000] loss: 0.416\n",
            "[3,  6000] loss: 0.414\n",
            "[3,  7000] loss: 0.405\n",
            "[3,  8000] loss: 0.401\n",
            "[3,  9000] loss: 0.415\n",
            "[3, 10000] loss: 0.401\n",
            "[3, 11000] loss: 0.399\n",
            "[3, 12000] loss: 0.403\n",
            "[4,  1000] loss: 0.239\n",
            "[4,  2000] loss: 0.246\n",
            "[4,  3000] loss: 0.275\n",
            "[4,  4000] loss: 0.255\n",
            "[4,  5000] loss: 0.279\n",
            "[4,  6000] loss: 0.274\n",
            "[4,  7000] loss: 0.269\n",
            "[4,  8000] loss: 0.274\n",
            "[4,  9000] loss: 0.277\n",
            "[4, 10000] loss: 0.276\n",
            "[4, 11000] loss: 0.295\n",
            "[4, 12000] loss: 0.294\n",
            "[5,  1000] loss: 0.117\n",
            "[5,  2000] loss: 0.136\n",
            "[5,  3000] loss: 0.139\n",
            "[5,  4000] loss: 0.136\n",
            "[5,  5000] loss: 0.150\n",
            "[5,  6000] loss: 0.153\n",
            "[5,  7000] loss: 0.166\n",
            "[5,  8000] loss: 0.168\n",
            "[5,  9000] loss: 0.173\n",
            "[5, 10000] loss: 0.172\n",
            "[5, 11000] loss: 0.185\n",
            "[5, 12000] loss: 0.186\n",
            "[6,  1000] loss: 0.063\n",
            "[6,  2000] loss: 0.069\n",
            "[6,  3000] loss: 0.084\n",
            "[6,  4000] loss: 0.084\n",
            "[6,  5000] loss: 0.087\n",
            "[6,  6000] loss: 0.097\n",
            "[6,  7000] loss: 0.099\n",
            "[6,  8000] loss: 0.092\n",
            "[6,  9000] loss: 0.100\n",
            "[6, 10000] loss: 0.097\n",
            "[6, 11000] loss: 0.108\n",
            "[6, 12000] loss: 0.111\n",
            "[7,  1000] loss: 0.036\n",
            "[7,  2000] loss: 0.049\n",
            "[7,  3000] loss: 0.058\n",
            "[7,  4000] loss: 0.063\n",
            "[7,  5000] loss: 0.063\n",
            "[7,  6000] loss: 0.076\n",
            "[7,  7000] loss: 0.057\n",
            "[7,  8000] loss: 0.067\n",
            "[7,  9000] loss: 0.065\n",
            "[7, 10000] loss: 0.071\n",
            "[7, 11000] loss: 0.078\n",
            "[7, 12000] loss: 0.070\n",
            "[8,  1000] loss: 0.030\n",
            "[8,  2000] loss: 0.034\n",
            "[8,  3000] loss: 0.047\n",
            "[8,  4000] loss: 0.042\n",
            "[8,  5000] loss: 0.048\n",
            "[8,  6000] loss: 0.041\n",
            "[8,  7000] loss: 0.044\n",
            "[8,  8000] loss: 0.052\n",
            "[8,  9000] loss: 0.056\n",
            "[8, 10000] loss: 0.053\n",
            "[8, 11000] loss: 0.059\n",
            "[8, 12000] loss: 0.051\n",
            "[9,  1000] loss: 0.019\n",
            "[9,  2000] loss: 0.022\n",
            "[9,  3000] loss: 0.030\n",
            "[9,  4000] loss: 0.031\n",
            "[9,  5000] loss: 0.027\n",
            "[9,  6000] loss: 0.040\n",
            "[9,  7000] loss: 0.042\n",
            "[9,  8000] loss: 0.039\n",
            "[9,  9000] loss: 0.032\n",
            "[9, 10000] loss: 0.036\n",
            "[9, 11000] loss: 0.025\n",
            "[9, 12000] loss: 0.027\n",
            "[10,  1000] loss: 0.016\n",
            "[10,  2000] loss: 0.023\n",
            "[10,  3000] loss: 0.020\n",
            "[10,  4000] loss: 0.035\n",
            "[10,  5000] loss: 0.028\n",
            "[10,  6000] loss: 0.029\n",
            "[10,  7000] loss: 0.030\n",
            "[10,  8000] loss: 0.025\n",
            "[10,  9000] loss: 0.040\n",
            "[10, 10000] loss: 0.030\n",
            "[10, 11000] loss: 0.030\n",
            "[10, 12000] loss: 0.036\n",
            "Finished Training\n",
            "Accuracy of the network on the 10000 test images: 68 %\n"
          ],
          "name": "stdout"
        }
      ]
    },
    {
      "cell_type": "code",
      "metadata": {
        "id": "NRgcZJ7ADGuk",
        "colab_type": "code",
        "colab": {}
      },
      "source": [
        ""
      ],
      "execution_count": 0,
      "outputs": []
    }
  ]
}