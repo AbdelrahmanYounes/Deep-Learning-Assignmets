{
 "cells": [
  {
   "cell_type": "markdown",
   "metadata": {},
   "source": [
    "# Ninth Exercise (HPO)\n",
    "\n",
    "This exercise focuses on hyperparameter optimization with neural networks.\n",
    "\n",
    "We will\n",
    "- define hyperparameter-configuration search-spaces\n",
    "- train deep learning models with various hyper parameters\n",
    "- use random search as a basic hyperparameter optimizer\n",
    "- use BOHB as an advanced hyperparameter optimizer\n",
    "\n",
    "It's in the nature of hyperparameter optimization, that you'll have to train a lot of models. \n",
    "Therefore execution time will be longer in this exercise, running the completed notebook takes about 30 minutes on a tutor's 3 year old laptop."
   ]
  },
  {
   "cell_type": "markdown",
   "metadata": {},
   "source": [
    "#### Install HpBandster and torchvision\n",
    "\n",
    "You need to install two more python packages for this exercise.\n",
    "\n",
    "- [torchvision](https://pytorch.org/docs/stable/torchvision/) provides utility methods for pytorch.\n",
    "- [HpBandSter](https://github.com/automl/HpBandSter) is a fast, parallel implementation of several hyperparameter optimizers.  \n",
    "   We can define even complex hyperparameter search spaces with [ConfigSpace](https://github.com/automl/ConfigSpace), which comes along HpBandSter as dependency.\n",
    "\n",
    "\n",
    "Install with anaconda/conda\n",
    "```\n",
    "conda install torchvision\n",
    "conda install hpbandster\n",
    "```\n",
    "\n",
    "or with plain python\n",
    "```\n",
    "pip3 install torchvision\n",
    "pip3 install hpbandster\n",
    "```"
   ]
  },
  {
   "cell_type": "code",
   "execution_count": 3,
   "metadata": {},
   "outputs": [
    {
     "name": "stdout",
     "output_type": "stream",
     "text": [
      "Requirement already satisfied: torchvision in n:\\anaconda3\\lib\\site-packages (0.4.2)\n",
      "Requirement already satisfied: numpy in n:\\anaconda3\\lib\\site-packages (from torchvision) (1.16.5)\n",
      "Requirement already satisfied: six in n:\\anaconda3\\lib\\site-packages (from torchvision) (1.12.0)\n",
      "Requirement already satisfied: torch==1.3.1 in n:\\anaconda3\\lib\\site-packages (from torchvision) (1.3.1)\n",
      "Requirement already satisfied: pillow>=4.1.1 in n:\\anaconda3\\lib\\site-packages (from torchvision) (6.2.0)\n",
      "Note: you may need to restart the kernel to use updated packages.\n"
     ]
    }
   ],
   "source": [
    "pip install torchvision"
   ]
  },
  {
   "cell_type": "code",
   "execution_count": 4,
   "metadata": {},
   "outputs": [
    {
     "name": "stdout",
     "output_type": "stream",
     "text": [
      "Collecting hpbandster\n",
      "  Downloading https://files.pythonhosted.org/packages/13/3e/62192b0bb527d9353d222b4b6df14400b3c4f36a92a2b138f11a5eafe000/hpbandster-0.7.4.tar.gz (51kB)\n",
      "Collecting Pyro4 (from hpbandster)\n",
      "  Downloading https://files.pythonhosted.org/packages/97/a2/70bf3d3aa6707eb264b9eb0e0899f3a90a3e062b2178da54e53ba4de2185/Pyro4-4.77-py2.py3-none-any.whl (90kB)\n",
      "Collecting serpent (from hpbandster)\n",
      "  Downloading https://files.pythonhosted.org/packages/27/8a/873ccbe1d3d0f81d136686e4d0f38619ac1e718cff7d68f80e364dc52a8c/serpent-1.28-py2.py3-none-any.whl\n",
      "Collecting ConfigSpace (from hpbandster)\n",
      "  Downloading https://files.pythonhosted.org/packages/28/26/eddb59c773bfcc6376ae8e05ddb9b6469c9d7e6abed28d48211a6e5d6541/ConfigSpace-0.4.12.tar.gz (966kB)\n",
      "Requirement already satisfied: numpy in n:\\anaconda3\\lib\\site-packages (from hpbandster) (1.16.5)\n",
      "Requirement already satisfied: statsmodels in n:\\anaconda3\\lib\\site-packages (from hpbandster) (0.10.1)\n",
      "Requirement already satisfied: scipy in n:\\anaconda3\\lib\\site-packages (from hpbandster) (1.3.1)\n",
      "Collecting netifaces (from hpbandster)\n",
      "  Downloading https://files.pythonhosted.org/packages/56/e9/bdac3b8fb0349f7aa0323ed8304175309f10be48ef6e2f6166578af2f136/netifaces-0.10.9-cp37-cp37m-win_amd64.whl\n",
      "Requirement already satisfied: cython in n:\\anaconda3\\lib\\site-packages (from ConfigSpace->hpbandster) (0.29.13)\n",
      "Requirement already satisfied: pyparsing in n:\\anaconda3\\lib\\site-packages (from ConfigSpace->hpbandster) (2.4.2)\n",
      "Requirement already satisfied: pandas>=0.19 in n:\\anaconda3\\lib\\site-packages (from statsmodels->hpbandster) (0.25.1)\n",
      "Requirement already satisfied: patsy>=0.4.0 in n:\\anaconda3\\lib\\site-packages (from statsmodels->hpbandster) (0.5.1)\n",
      "Requirement already satisfied: python-dateutil>=2.6.1 in n:\\anaconda3\\lib\\site-packages (from pandas>=0.19->statsmodels->hpbandster) (2.8.0)\n",
      "Requirement already satisfied: pytz>=2017.2 in n:\\anaconda3\\lib\\site-packages (from pandas>=0.19->statsmodels->hpbandster) (2019.3)\n",
      "Requirement already satisfied: six in n:\\anaconda3\\lib\\site-packages (from patsy>=0.4.0->statsmodels->hpbandster) (1.12.0)\n",
      "Building wheels for collected packages: hpbandster, ConfigSpace\n",
      "  Building wheel for hpbandster (setup.py): started\n",
      "  Building wheel for hpbandster (setup.py): finished with status 'done'\n",
      "  Created wheel for hpbandster: filename=hpbandster-0.7.4-cp37-none-any.whl size=80012 sha256=4c5bf9d3451edbed16994deca66b4f9dd0567d3100039d2619e33467f3958dba\n",
      "  Stored in directory: C:\\Users\\Abdelrahman ElNagi\\AppData\\Local\\pip\\Cache\\wheels\\9d\\57\\62\\6b00c8011bac96e0c404adc5be4e16964ba4544614240b4e23\n",
      "  Building wheel for ConfigSpace (setup.py): started\n",
      "  Building wheel for ConfigSpace (setup.py): finished with status 'done'\n",
      "  Created wheel for ConfigSpace: filename=ConfigSpace-0.4.12-cp37-cp37m-win_amd64.whl size=689388 sha256=c23576fd673b69ce6f534a5b14a8275888c2a6043c86e22b9c2fc4fcd73adb6d\n",
      "  Stored in directory: C:\\Users\\Abdelrahman ElNagi\\AppData\\Local\\pip\\Cache\\wheels\\ae\\b2\\85\\feafec2387f97065d914a72c42ff3a0f6f60d8e1fd03c6bd4b\n",
      "Successfully built hpbandster ConfigSpace\n",
      "Installing collected packages: serpent, Pyro4, ConfigSpace, netifaces, hpbandster\n",
      "Successfully installed ConfigSpace-0.4.12 Pyro4-4.77 hpbandster-0.7.4 netifaces-0.10.9 serpent-1.28\n",
      "Note: you may need to restart the kernel to use updated packages.\n"
     ]
    }
   ],
   "source": [
    "pip install hpbandster"
   ]
  },
  {
   "cell_type": "code",
   "execution_count": 1,
   "metadata": {},
   "outputs": [],
   "source": [
    "import os\n",
    "from typing import Tuple, List\n",
    "\n",
    "import torch\n",
    "import torch.nn as nn\n",
    "import torch.nn.functional as F\n",
    "from torch.utils.data import DataLoader\n",
    "from torch.utils.data.sampler import SubsetRandomSampler\n",
    "import torchvision\n",
    "import torchvision.transforms as transforms\n",
    "\n",
    "import ConfigSpace as CS\n",
    "import ConfigSpace.hyperparameters as CSH\n",
    "\n",
    "import numpy as np\n",
    "import matplotlib.pyplot as plt\n",
    "%matplotlib inline\n",
    "\n",
    "# NOT CHANGE!\n",
    "np.random.seed(0)\n",
    "\n",
    "def load_mnist_minibatched(batch_size: int, n_train: int = 8192, n_valid: int = 1024,\n",
    "                           valid_test_batch_size: int = 1024) -> Tuple[DataLoader, DataLoader, DataLoader]:\n",
    "    train_dataset = torchvision.datasets.MNIST(\n",
    "        root='../data', train=True, transform=transforms.ToTensor(), download=True)\n",
    "    test_dataset = torchvision.datasets.MNIST(\n",
    "        root='../data', train=False, transform=transforms.ToTensor())\n",
    "\n",
    "    train_sampler = SubsetRandomSampler(range(n_train))\n",
    "    validation_sampler = SubsetRandomSampler(range(n_train, n_train+n_valid))\n",
    "\n",
    "    train_loader = DataLoader(dataset=train_dataset, batch_size=batch_size, sampler=train_sampler)\n",
    "    validation_loader = DataLoader(dataset=train_dataset, batch_size=valid_test_batch_size,\n",
    "                                   sampler=validation_sampler)\n",
    "    test_loader = torch.utils.data.DataLoader(dataset=test_dataset, batch_size=valid_test_batch_size, \n",
    "                                              shuffle=False)\n",
    "    return train_loader, validation_loader, test_loader\n",
    "\n",
    "\n",
    "def evaluate_accuracy(model: nn.Module, data_loader: DataLoader) -> float:\n",
    "    model.eval()\n",
    "    correct = 0\n",
    "    with torch.no_grad():\n",
    "        for x, y in data_loader:\n",
    "            output = model(x)\n",
    "            # get the index of the max log-probability\n",
    "            pred = output.max(1, keepdim=True)[1]\n",
    "            correct += pred.eq(y.view_as(pred)).sum().item()\n",
    "    accuracy = correct / len(data_loader.sampler)\n",
    "    return(accuracy)"
   ]
  },
  {
   "cell_type": "markdown",
   "metadata": {},
   "source": [
    "## Random Search\n",
    "\n",
    "Here we get hands on hyperparameter optimization using random search.\n",
    "\n",
    "### Model and Hyperparameter Space\n",
    "\n",
    "First we define a configurable model and a hyperparameter space. You learn how to use *ConfigSpace* to define the hyperparameters, by looking at [this example](https://automl.github.io/SMAC3/stable/quickstart.html#using-smac-in-python-svm).   \n",
    "\n",
    "**Task:** Complete the functions as described in the docstrings.\n",
    "\n",
    "**Hint:** The `CS.GreaterThanCondition(conditioned_hyperparameter, lefthand_side, righthand_side)` method might be useful."
   ]
  },
  {
   "cell_type": "code",
   "execution_count": 108,
   "metadata": {},
   "outputs": [],
   "source": [
    "from collections import OrderedDict\n",
    "\n",
    "    \n",
    "def get_conv_model(num_filters_per_layer: List[int]) -> nn.Module:\n",
    "    \"\"\"Builds a deep convolutional model with various number of convolution\n",
    "       layers for MNIST input using pytorch.\n",
    "    \n",
    "    for each element in num_filters_per_layer:\n",
    "        convolution (conv_kernel_size, num_filters, stride=1, padding=0)\n",
    "        relu\n",
    "        max pool    (pool_kernel_size, stride=1)\n",
    "    linear\n",
    "    log softmax\n",
    "    \"\"\"\n",
    "    assert len(num_filters_per_layer) > 0, \"len(num_filters_per_layer) should be greater than 0\"\n",
    "    pool_kernel_size = 2\n",
    "    conv_kernel_size = 3\n",
    "    \n",
    "    # START TODO ################ (2points)\n",
    "    layers = OrderedDict()\n",
    "    num_out_filters = 1\n",
    "    out_size = 28\n",
    "    for i,num_filters in enumerate(num_filters_per_layer):\n",
    "        layers[\"Convolution\"+str(i+1)] = nn.Conv2d(num_out_filters,num_filters,conv_kernel_size)\n",
    "        layers[\"Relu\"+str(i+1)] = nn.ReLU()\n",
    "        layers[\"Max Pool\"+ str(i+1)] = nn.MaxPool2d(pool_kernel_size)\n",
    "        num_out_filters = num_filters\n",
    "        out_size = (out_size-conv_kernel_size + 1)//pool_kernel_size\n",
    "    conv_out_size = num_out_filters * out_size * out_size\n",
    "    layers[\"Flatten\"] = nn.Flatten()\n",
    "    layers[\"Linear\"] = nn.Linear(conv_out_size,10)\n",
    "    layers[\"Log Softmax\"] = nn.LogSoftmax(dim = 1)\n",
    "    return nn.Sequential(layers)\n",
    "    \n",
    "    # End TODO ################\n",
    "\n",
    "def get_configspace() -> CS.ConfigurationSpace:\n",
    "    \"\"\" Define a conditional hyperparameter search-space.\n",
    "    \n",
    "    hyperparameters:\n",
    "      lr              from 1e-6 to 1e-0 (log, float)\n",
    "      num_filters_1   from    2 to    8 (int)\n",
    "      num_filters_2   from    2 to    8 (int)\n",
    "      num_conv_layers from    1 to    2 (int)\n",
    "    \n",
    "    conditions: \n",
    "      include num_filters_2 only if num_conv_layers > 1\n",
    "    \"\"\"\n",
    "    cs = CS.ConfigurationSpace()\n",
    "    # START TODO ################ (2points)\n",
    "    lr = CSH.UniformFloatHyperparameter(\"lr\",1e-6,1e-0,log=True)\n",
    "    num_filters_1 = CSH.UniformIntegerHyperparameter('num_filters_1',2, 8)\n",
    "    num_filters_2 = CSH.UniformIntegerHyperparameter('num_filters_2',2,8)\n",
    "    num_conv_layers = CSH.UniformIntegerHyperparameter(\"num_conv_layers\",1,2)\n",
    "    cs.add_hyperparameters([lr, num_filters_1, num_filters_2, num_conv_layers])\n",
    "    cs.add_condition(CS.GreaterThanCondition(num_filters_2, num_conv_layers, 1))\n",
    "    \n",
    "    # End TODO ################\n",
    "    return cs"
   ]
  },
  {
   "cell_type": "markdown",
   "metadata": {},
   "source": [
    "### Run model with configuration\n",
    "\n",
    "A single sample from your hyperparameter space is a *Configuration*. You can use the configuration similar to a dictionary, it supports *config.keys(), config.values(), value = config[key], key in config, …* .\n",
    "You can iterate a *DataLoader* to access (data, label) batches.\n",
    "\n",
    "**Note:** If a condition isn't met, the conditional hyperparameter isn't included in the configuration.\n",
    "\n",
    "**Task:** Complete the function to run a model like defined by the configuration. The function should return the model and the *validation error* for each epoch. You can use *evaluate_accuracy* (defined above), don't forget to switch between train and eval mode."
   ]
  },
  {
   "cell_type": "code",
   "execution_count": 109,
   "metadata": {},
   "outputs": [],
   "source": [
    "def run_conv_model(config: CS.Configuration, epochs: int, train_loader: DataLoader,\n",
    "                   validation_loader: DataLoader) -> Tuple[nn.Module, List[float]]:    \n",
    "    \"\"\" Run and evaluate a model from get_conv_model with NLLLoss and SGD.\n",
    "    \"\"\"\n",
    "    # START TODO ################ (3points)\n",
    "    # retrieve the number of filters from the config and create the model\n",
    "    num_filters_per_layer = [config[key] for key in sorted(config.keys()) if key.startswith(\"num_filters\")]\n",
    "    model = get_conv_model(num_filters_per_layer)\n",
    "    cross_entropy_loss = torch.nn.CrossEntropyLoss()\n",
    "    optimizer = torch.optim.Adam(model.parameters(), lr=config[\"lr\"])\n",
    "    val_errors = list()\n",
    "    for epoch in range(int(epochs)):\n",
    "        loss = 0\n",
    "        model.train()\n",
    "        for i, (x, y) in enumerate(train_loader):\n",
    "            optimizer.zero_grad()\n",
    "            output = model(x)\n",
    "            loss = cross_entropy_loss(output, y)\n",
    "            loss.backward()\n",
    "            optimizer.step()\n",
    "        accuracy = evaluate_accuracy(model, validation_loader)\n",
    "        val_errors.append(1 - accuracy)\n",
    "    # End TODO ################\n",
    "    return model, val_errors"
   ]
  },
  {
   "cell_type": "markdown",
   "metadata": {},
   "source": [
    "Now let's run models with various, random hyperparameter configurations. Don't forget to store all the configuration and validation errors for further evaluation.\n",
    "\n",
    "**Tipp:** *ConfigSpace* objects have a *.sample_configuration()* function to sample a random configuration.\n",
    "\n",
    "**Task:** Run *n_random_samples* models for *n_epochs* and store the tuple `(model, config, val_errors)` in `results`."
   ]
  },
  {
   "cell_type": "code",
   "execution_count": 110,
   "metadata": {},
   "outputs": [],
   "source": [
    "n_random_samples = 18\n",
    "n_epochs = 9\n",
    "cs = get_configspace()\n",
    "train_loader, validation_loader, _ = load_mnist_minibatched(batch_size=32, n_train=4096, n_valid=512)\n",
    "\n",
    "# START TODO ################ (1point)\n",
    "results = []\n",
    "for i in range(n_random_samples):\n",
    "    config = cs.sample_configuration()\n",
    "    model, val_errors = run_conv_model(config, n_epochs, train_loader, validation_loader)\n",
    "    results.append((model, config, val_errors))\n",
    "# End TODO ################"
   ]
  },
  {
   "cell_type": "markdown",
   "metadata": {},
   "source": [
    "### Evaluate \n",
    "\n",
    "Now we should evaluate the previous runs. Evaluation in hyperparameter optimization can mean two different things: On the one hand, we might be only interested in the model with the best performance. On the other hand, we might want to find the best hyperparameter configuration to then train a model with these hyper-parameters (but with e.g. more epochs).\n",
    "\n",
    "**Task:** Print the model and final validation error of the best model in `results`."
   ]
  },
  {
   "cell_type": "code",
   "execution_count": 131,
   "metadata": {},
   "outputs": [
    {
     "name": "stdout",
     "output_type": "stream",
     "text": [
      "The Lowest error 0.04296875\n",
      "Sequential(\n",
      "  (Convolution1): Conv2d(1, 7, kernel_size=(3, 3), stride=(1, 1))\n",
      "  (Relu1): ReLU()\n",
      "  (Max Pool1): MaxPool2d(kernel_size=2, stride=2, padding=0, dilation=1, ceil_mode=False)\n",
      "  (Flatten): Flatten()\n",
      "  (Linear): Linear(in_features=1183, out_features=10, bias=True)\n",
      "  (Log Softmax): LogSoftmax()\n",
      ")\n"
     ]
    }
   ],
   "source": [
    "# START TODO ################ (1point)\n",
    "lowest_error = (results[0][-1])[-1]\n",
    "best_model = str(results[0][0])\n",
    "for (model, config, val_errors) in results:\n",
    "    if val_errors[-1]< lowest_error:\n",
    "        lowest_error = val_errors[-1]\n",
    "        best_model = str(model)\n",
    "print(\"The Lowest error\",lowest_error)\n",
    "print(best_model)\n",
    "# END TODO ################"
   ]
  },
  {
   "cell_type": "markdown",
   "metadata": {},
   "source": [
    "Let's further investigate which hyperparameters work well and which don't.\n",
    "\n",
    "**Task:** Print a scatter plot of learning rate (x) and number of filters (sum over layers, y). Scale the size of the scatter points by the error in the last epoch (10 to 100)."
   ]
  },
  {
   "cell_type": "code",
   "execution_count": 132,
   "metadata": {},
   "outputs": [
    {
     "name": "stderr",
     "output_type": "stream",
     "text": [
      "01:14:25 vmin 6.509811029268582e-11 vmax 233395.60294374268\n",
      "01:14:25 ticklocs array([1.e-13, 1.e-11, 1.e-09, 1.e-07, 1.e-05, 1.e-03, 1.e-01, 1.e+01,\n",
      "       1.e+03, 1.e+05, 1.e+07, 1.e+09])\n",
      "01:14:25 vmin 6.509811029268582e-11 vmax 233395.60294374268\n",
      "01:14:25 ticklocs array([1.e-13, 1.e-11, 1.e-09, 1.e-07, 1.e-05, 1.e-03, 1.e-01, 1.e+01,\n",
      "       1.e+03, 1.e+05, 1.e+07, 1.e+09])\n",
      "01:14:25 vmin 6.509811029268582e-11 vmax 233395.60294374268\n",
      "01:14:25 ticklocs array([1.e-13, 1.e-11, 1.e-09, 1.e-07, 1.e-05, 1.e-03, 1.e-01, 1.e+01,\n",
      "       1.e+03, 1.e+05, 1.e+07, 1.e+09])\n",
      "01:14:26 vmin 6.509811029268582e-11 vmax 233395.60294374268\n",
      "01:14:26 vmin 6.509811029268582e-11 vmax 233395.60294374268\n",
      "01:14:26 ticklocs array([1.e-13, 1.e-11, 1.e-09, 1.e-07, 1.e-05, 1.e-03, 1.e-01, 1.e+01,\n",
      "       1.e+03, 1.e+05, 1.e+07, 1.e+09])\n",
      "01:14:26 vmin 6.509811029268582e-11 vmax 233395.60294374268\n",
      "01:14:26 ticklocs array([1.e-13, 1.e-11, 1.e-09, 1.e-07, 1.e-05, 1.e-03, 1.e-01, 1.e+01,\n",
      "       1.e+03, 1.e+05, 1.e+07, 1.e+09])\n",
      "01:14:26 vmin 6.509811029268582e-11 vmax 233395.60294374268\n",
      "01:14:26 vmin 6.509811029268582e-11 vmax 233395.60294374268\n",
      "01:14:26 ticklocs array([1.e-13, 1.e-11, 1.e-09, 1.e-07, 1.e-05, 1.e-03, 1.e-01, 1.e+01,\n",
      "       1.e+03, 1.e+05, 1.e+07, 1.e+09])\n",
      "01:14:26 vmin 6.509811029268582e-11 vmax 233395.60294374268\n",
      "01:14:26 ticklocs array([1.e-13, 1.e-11, 1.e-09, 1.e-07, 1.e-05, 1.e-03, 1.e-01, 1.e+01,\n",
      "       1.e+03, 1.e+05, 1.e+07, 1.e+09])\n",
      "01:14:26 vmin 6.509811029268582e-11 vmax 233395.60294374268\n",
      "01:14:26 vmin 6.509811029268582e-11 vmax 233395.60294374268\n",
      "01:14:26 ticklocs array([1.e-13, 1.e-11, 1.e-09, 1.e-07, 1.e-05, 1.e-03, 1.e-01, 1.e+01,\n",
      "       1.e+03, 1.e+05, 1.e+07, 1.e+09])\n",
      "01:14:26 vmin 6.509811029268582e-11 vmax 233395.60294374268\n",
      "01:14:26 ticklocs array([1.e-13, 1.e-11, 1.e-09, 1.e-07, 1.e-05, 1.e-03, 1.e-01, 1.e+01,\n",
      "       1.e+03, 1.e+05, 1.e+07, 1.e+09])\n",
      "01:14:26 vmin 6.509811029268582e-11 vmax 233395.60294374268\n",
      "01:14:26 vmin 6.509811029268582e-11 vmax 233395.60294374268\n",
      "01:14:26 ticklocs array([1.e-13, 1.e-11, 1.e-09, 1.e-07, 1.e-05, 1.e-03, 1.e-01, 1.e+01,\n",
      "       1.e+03, 1.e+05, 1.e+07, 1.e+09])\n",
      "01:14:26 vmin 6.509811029268582e-11 vmax 233395.60294374268\n",
      "01:14:26 ticklocs array([1.e-13, 1.e-11, 1.e-09, 1.e-07, 1.e-05, 1.e-03, 1.e-01, 1.e+01,\n",
      "       1.e+03, 1.e+05, 1.e+07, 1.e+09])\n",
      "01:14:26 vmin 6.509811029268582e-11 vmax 233395.60294374268\n",
      "01:14:26 vmin 6.509811029268582e-11 vmax 233395.60294374268\n",
      "01:14:26 ticklocs array([1.e-13, 1.e-11, 1.e-09, 1.e-07, 1.e-05, 1.e-03, 1.e-01, 1.e+01,\n",
      "       1.e+03, 1.e+05, 1.e+07, 1.e+09])\n",
      "01:14:26 vmin 6.509811029268582e-11 vmax 233395.60294374268\n",
      "01:14:26 ticklocs array([1.e-13, 1.e-11, 1.e-09, 1.e-07, 1.e-05, 1.e-03, 1.e-01, 1.e+01,\n",
      "       1.e+03, 1.e+05, 1.e+07, 1.e+09])\n",
      "01:14:26 vmin 6.509811029268582e-11 vmax 233395.60294374268\n",
      "01:14:26 vmin 6.509811029268582e-11 vmax 233395.60294374268\n",
      "01:14:26 ticklocs array([1.e-13, 1.e-11, 1.e-09, 1.e-07, 1.e-05, 1.e-03, 1.e-01, 1.e+01,\n",
      "       1.e+03, 1.e+05, 1.e+07, 1.e+09])\n",
      "01:14:26 vmin 6.509811029268582e-11 vmax 233395.60294374268\n",
      "01:14:26 ticklocs array([1.e-13, 1.e-11, 1.e-09, 1.e-07, 1.e-05, 1.e-03, 1.e-01, 1.e+01,\n",
      "       1.e+03, 1.e+05, 1.e+07, 1.e+09])\n",
      "01:14:26 vmin 6.509811029268582e-11 vmax 233395.60294374268\n",
      "01:14:26 vmin 6.509811029268582e-11 vmax 233395.60294374268\n",
      "01:14:26 ticklocs array([1.e-13, 1.e-11, 1.e-09, 1.e-07, 1.e-05, 1.e-03, 1.e-01, 1.e+01,\n",
      "       1.e+03, 1.e+05, 1.e+07, 1.e+09])\n",
      "01:14:26 vmin 6.509811029268582e-11 vmax 233395.60294374268\n",
      "01:14:26 ticklocs array([1.e-13, 1.e-11, 1.e-09, 1.e-07, 1.e-05, 1.e-03, 1.e-01, 1.e+01,\n",
      "       1.e+03, 1.e+05, 1.e+07, 1.e+09])\n",
      "01:14:26 vmin 6.509811029268582e-11 vmax 233395.60294374268\n",
      "01:14:26 vmin 6.509811029268582e-11 vmax 233395.60294374268\n",
      "01:14:26 ticklocs array([1.e-13, 1.e-11, 1.e-09, 1.e-07, 1.e-05, 1.e-03, 1.e-01, 1.e+01,\n",
      "       1.e+03, 1.e+05, 1.e+07, 1.e+09])\n",
      "01:14:26 vmin 6.509811029268582e-11 vmax 233395.60294374268\n",
      "01:14:26 ticklocs array([1.e-13, 1.e-11, 1.e-09, 1.e-07, 1.e-05, 1.e-03, 1.e-01, 1.e+01,\n",
      "       1.e+03, 1.e+05, 1.e+07, 1.e+09])\n",
      "01:14:26 vmin 6.509811029268582e-11 vmax 233395.60294374268\n",
      "01:14:26 vmin 6.509811029268582e-11 vmax 233395.60294374268\n",
      "01:14:26 ticklocs array([1.e-13, 1.e-11, 1.e-09, 1.e-07, 1.e-05, 1.e-03, 1.e-01, 1.e+01,\n",
      "       1.e+03, 1.e+05, 1.e+07, 1.e+09])\n",
      "01:14:26 vmin 6.509811029268582e-11 vmax 233395.60294374268\n",
      "01:14:26 ticklocs array([1.e-13, 1.e-11, 1.e-09, 1.e-07, 1.e-05, 1.e-03, 1.e-01, 1.e+01,\n",
      "       1.e+03, 1.e+05, 1.e+07, 1.e+09])\n",
      "01:14:26 vmin 6.509811029268582e-11 vmax 233395.60294374268\n"
     ]
    },
    {
     "data": {
      "image/png": "[encoded data removed]",
      "text/plain": [
       "<Figure size 432x288 with 1 Axes>"
      ]
     },
     "metadata": {
      "needs_background": "light"
     },
     "output_type": "display_data"
    }
   ],
   "source": [
    "# START TODO ################ (2points)\n",
    "final_validation_errors = []\n",
    "for (model, config, val_errors) in results:\n",
    "    final_validation_errors.append(val_errors[-1])\n",
    "final_validation_errors = np.array(final_errors)\n",
    "num_filters = [sum([config[key] for key in sorted(config.keys()) if key.startswith(\"num_filters\")])for (model,config,val_errors) in results]\n",
    "lrs = [config[\"lr\"] for (model,config,val_errors) in results]\n",
    "\n",
    "scaled_sizes = (final_validation_errors *10) + 90\n",
    "plt.xscale(\"log\")\n",
    "plt.xlabel(\"learning_rate\") \n",
    "plt.ylabel(\"num_filters\")\n",
    "plt.scatter(lrs, num_filters, s=scaled_sizes, c=final_validation_errors)\n",
    "plt.show()\n",
    "# END TODO ################"
   ]
  },
  {
   "cell_type": "markdown",
   "metadata": {},
   "source": [
    "**Question:** What pattern do you see? Why might it occur? (1point)\n",
    "\n",
    "**Answer:** **TODO** The validation error is lower, for higher learning rates. The number of filters doesn't affect it. We evaluate only after a short training (9 epochs), small learning rates converge not fast enough and high capacity isn't necessary."
   ]
  },
  {
   "cell_type": "markdown",
   "metadata": {},
   "source": [
    "After looking at the final error, let's now have a look at the training error.\n",
    "\n",
    "**Task:** Plot error curves (error per epoch) for all your configurations in one figure."
   ]
  },
  {
   "cell_type": "code",
   "execution_count": 133,
   "metadata": {},
   "outputs": [
    {
     "data": {
      "image/png": "[encoded data removed]",
      "text/plain": [
       "<Figure size 432x288 with 1 Axes>"
      ]
     },
     "metadata": {
      "needs_background": "light"
     },
     "output_type": "display_data"
    }
   ],
   "source": [
    "# START TODO ################ (1point)\n",
    "for (model, config, val_errors) in results:\n",
    "    plt.plot(range(1, 10), val_errors)\n",
    "    \n",
    "plt.xlabel(\"epochs\")\n",
    "plt.ylabel(\"validation_error\")\n",
    "plt.show()\n",
    "# END TODO ################"
   ]
  },
  {
   "cell_type": "markdown",
   "metadata": {},
   "source": [
    "**Questions:** How could you detect configurations with a low error earlier/faster? Why could this be problematic? \n",
    "\n",
    "**Answers:** **TODO** Learning curves with low error at the end usually have low error at earlier epochs. We could evaluate the error after only a few epochs (also possible: they are steeper). This might be problematic, because the best curve after a few epochs is not necessarily the best one after all epochs.\n",
    "Therefore early evaluation might help filtering out poor configurations but may not find the best configuration."
   ]
  },
  {
   "cell_type": "markdown",
   "metadata": {},
   "source": [
    "## BOHB\n",
    "\n",
    "Here we will use the more advanced hyperparameter optimizer [BOHB](https://www.automl.org/blog_bohb/) (Bayesian Optimization with Hyperband).\n",
    "Based on TPE and [Hyperband](https://arxiv.org/pdf/1603.06560.pdf), BOHB evaluates configurations on your model with increasing budgets. In the context of Deep Learning, budget can be the number of epochs or the number of training samples. In lower budget evaluations, BOHB can look at more configurations. Full budget evaluations avoid missing configurations which are poor at the beginnning but good at the end (and vice versa). \n",
    "At the start of a run, BOHB samples configurations randomly. After some time, BOHB then uses a bayesian model (based on Parzen Tree Estimators), sampling only promising configs.\n",
    "\n",
    "This exercise part is based on the [HpBandSter Examples](https://automl.github.io/HpBandSter/build/html/auto_examples/index.html) and the [HpBandSter Documentation](https://automl.github.io/HpBandSter/). *HpBandSter* provides a fast implementation of *Randomsearch*, *Hyperband* and *BOHB*. The optimization can easily be distributed between multiple cores or even multiple computers."
   ]
  },
  {
   "cell_type": "code",
   "execution_count": 134,
   "metadata": {},
   "outputs": [],
   "source": [
    "import pickle\n",
    "import logging\n",
    "\n",
    "from hpbandster.core.worker import Worker\n",
    "import hpbandster.core.nameserver as hpns\n",
    "import hpbandster.core.result as hpres\n",
    "from hpbandster.optimizers import BOHB\n",
    "\n",
    "logging.getLogger('hpbandster').setLevel(logging.DEBUG)"
   ]
  },
  {
   "cell_type": "markdown",
   "metadata": {},
   "source": [
    "### Implement Worker\n",
    "\n",
    "The worker defines the hyperparameter problem which we try to optimize.\n",
    "*compute(...)* should - for a given configuration and budget - return a loss which the hyperparameter optimizer tries to minimize. In our case, we can use the number of epochs as budget and the validation error as loss. \n",
    "As best practice, we define the configuration space also in the worker.\n",
    "\n",
    "If you need help, you might get some inspiration from the [HpBandSter Pytorch Worker Example](https://automl.github.io/HpBandSter/build/html/auto_examples/example_5_pytorch_worker.html#sphx-glr-auto-examples-example-5-pytorch-worker-py).\n",
    "\n",
    "**Task:** Complete the methods below."
   ]
  },
  {
   "cell_type": "code",
   "execution_count": 135,
   "metadata": {},
   "outputs": [],
   "source": [
    "class PyTorchWorker(Worker):\n",
    "    def __init__(self, **kwargs):\n",
    "        super().__init__(**kwargs)\n",
    "        self.train_loader, self.validation_loader, self.test_loader =\\\n",
    "            load_mnist_minibatched(batch_size=32, n_train=4096, n_valid=512)\n",
    "\n",
    "    @staticmethod\n",
    "    def get_model(config: CS.Configuration) -> nn.Module:\n",
    "        \"\"\" Define a configurable convolution model.\n",
    "            \n",
    "        See description of get_conv_model above for more details on the model.\n",
    "        \"\"\"\n",
    "        # START TODO ################ (1point)\n",
    "        # raise NotImplementedError\n",
    "        num_filters_per_layer = [config[k] for k in sorted(config.keys()) if k.startswith('num_filters')]\n",
    "        return get_conv_model(num_filters_per_layer)\n",
    "        # END TODO ################\n",
    "        \n",
    "    @staticmethod\n",
    "    def get_configspace() -> CS.Configuration:\n",
    "        \"\"\" Define a conditional hyperparameter search-space.\n",
    "    \n",
    "        hyperparameters:\n",
    "          num_filters_1   from    4 to   32 (int)\n",
    "          num_filters_2   from    4 to   32 (int)\n",
    "          num_filters_3   from    4 to   32 (int)\n",
    "          num_conv_layers from    1 to    3 (int)\n",
    "          lr              from 1e-6 to 1e-1 (float, log)\n",
    "          sgd_momentum    from 0.00 to 0.99 (float)\n",
    "          optimizer            Adam or  SGD (categoric)\n",
    "          \n",
    "        conditions: \n",
    "          include num_filters_2 only if num_conv_layers > 1\n",
    "          include num_filters_3 only if num_conv_layers > 2\n",
    "          include sgd_momentum  only if       optimizer = SGD\n",
    "        \"\"\"\n",
    "        # START TODO ################ (2points)\n",
    "        cs = CS.ConfigurationSpace()\n",
    "        num_filters_1 = CSH.UniformIntegerHyperparameter('num_filters_1',4,32)\n",
    "        num_filters_2 = CSH.UniformIntegerHyperparameter('num_filters_2',4,32)\n",
    "        num_filters_3 = CSH.UniformIntegerHyperparameter('num_filters_3',4,32)\n",
    "        num_conv_layers = CSH.UniformIntegerHyperparameter(\"num_conv_layers\",1,3)\n",
    "        lr = CSH.UniformFloatHyperparameter(\"lr\",1e-6,1e-1,log=True)\n",
    "        sgd_momentum = CSH.UniformFloatHyperparameter(\"sgd_momentum\",0.00,0.99)\n",
    "        optimizer = CSH.CategoricalHyperparameter(\"optimizer\",[\"Adam\",\"SGD\"])\n",
    "        cs.add_hyperparameters([lr, num_filters_1, num_filters_2, num_conv_layers,num_filters_3,sgd_momentum,optimizer])\n",
    "        cs.add_condition(CS.GreaterThanCondition(num_filters_2, num_conv_layers, 1))\n",
    "        cs.add_condition(CS.GreaterThanCondition(num_filters_3, num_conv_layers, 2))\n",
    "        cs.add_condition(CS.EqualsCondition(sgd_momentum,optimizer,\"SGD\"))\n",
    "        return cs\n",
    "        # END TODO ################\n",
    "\n",
    "    def compute(self, config: CS.Configuration, budget: float, working_directory: str,\n",
    "                *args, **kwargs) -> dict:\n",
    "        \"\"\"Evaluate a function with the given config and budget and return a loss.\n",
    "        \n",
    "        Bohb tries to minimize the returned loss.\n",
    "        \n",
    "        In our case the function is the training and validation of a model,\n",
    "        the budget is the number of epochs and the loss is the validation error.\n",
    "        \"\"\"\n",
    "        model = self.get_model(config)\n",
    "        \n",
    "        # START TODO ################ (3points)\n",
    "        cross_entropy_loss = torch.nn.CrossEntropyLoss()\n",
    "        if config[\"optimizer\"] == \"Adam\":\n",
    "            optimizer = torch.optim.Adam(model.parameters(), lr = config[\"lr\"])\n",
    "        else:\n",
    "            optimizer = torch.optim.SGD(model.parameters(), lr = config[\"lr\"], momentum = config[\"sgd_momentum\"])\n",
    "\n",
    "        for epoch in range(int(budget)):\n",
    "            loss = 0\n",
    "            model.train()\n",
    "            for i, (x, y) in enumerate(self.train_loader):\n",
    "                optimizer.zero_grad()\n",
    "                output = model(x)\n",
    "                loss = cross_entropy_loss(output, y)\n",
    "                loss.backward()\n",
    "                optimizer.step()\n",
    "        # END TODO ################\n",
    "        \n",
    "        train_accuracy = evaluate_accuracy(model, self.train_loader)\n",
    "        validation_accuracy = evaluate_accuracy(model, self.validation_loader)\n",
    "        test_accuracy = evaluate_accuracy(model, self.test_loader)\n",
    "        \n",
    "        return ({\n",
    "                'loss': 1 - validation_accuracy,  # remember: HpBandSter minimizes the loss!\n",
    "                'info': {'test_accuracy': test_accuracy,\n",
    "                         'train_accuracy': train_accuracy,\n",
    "                         'valid_accuracy': validation_accuracy,\n",
    "                         'model': str(model)}\n",
    "                })\n",
    "\n",
    "   "
   ]
  },
  {
   "cell_type": "markdown",
   "metadata": {},
   "source": [
    "It's best practice to do a quick sanity check of our worker with a low budget:"
   ]
  },
  {
   "cell_type": "code",
   "execution_count": 136,
   "metadata": {},
   "outputs": [],
   "source": [
    "working_dir = os.curdir\n",
    "# minimum budget that BOHB uses\n",
    "min_budget = 1\n",
    "# largest budget BOHB will use\n",
    "max_budget = 9"
   ]
  },
  {
   "cell_type": "code",
   "execution_count": 137,
   "metadata": {},
   "outputs": [
    {
     "name": "stdout",
     "output_type": "stream",
     "text": [
      "{'lr': 0.0008262792001504218, 'num_conv_layers': 3, 'num_filters_1': 15, 'optimizer': 'Adam', 'num_filters_2': 17, 'num_filters_3': 9}\n",
      "{'loss': 0.58984375, 'info': {'test_accuracy': 0.3492, 'train_accuracy': 0.3603515625, 'valid_accuracy': 0.41015625, 'model': 'Sequential(\\n  (Convolution1): Conv2d(1, 15, kernel_size=(3, 3), stride=(1, 1))\\n  (Relu1): ReLU()\\n  (Max Pool1): MaxPool2d(kernel_size=2, stride=2, padding=0, dilation=1, ceil_mode=False)\\n  (Convolution2): Conv2d(15, 17, kernel_size=(3, 3), stride=(1, 1))\\n  (Relu2): ReLU()\\n  (Max Pool2): MaxPool2d(kernel_size=2, stride=2, padding=0, dilation=1, ceil_mode=False)\\n  (Convolution3): Conv2d(17, 9, kernel_size=(3, 3), stride=(1, 1))\\n  (Relu3): ReLU()\\n  (Max Pool3): MaxPool2d(kernel_size=2, stride=2, padding=0, dilation=1, ceil_mode=False)\\n  (Flatten): Flatten()\\n  (Linear): Linear(in_features=9, out_features=10, bias=True)\\n  (Log Softmax): LogSoftmax()\\n)'}}\n"
     ]
    }
   ],
   "source": [
    "worker = PyTorchWorker(run_id='0')\n",
    "cs = worker.get_configspace()\n",
    "\n",
    "config = cs.sample_configuration().get_dictionary()\n",
    "print(config)\n",
    "\n",
    "res = worker.compute(config=config, budget=min_budget, working_directory=working_dir)\n",
    "print(res)"
   ]
  },
  {
   "cell_type": "markdown",
   "metadata": {},
   "source": [
    "### Run BOHB\n",
    "\n",
    "We now run the hyperparameter search with BOHB and the worker which we defined above and save the result to disk. \n",
    "Try to understand what happens. *HpBandSter* allows to start additional workers on the same or remote devices to parallelize the executions, that's why we need to setup some network stuff (nameserver, nic, host, port, …). If you're interested, you can check this out in the [HpBandSter Examples](https://automl.github.io/HpBandSter/build/html/auto_examples/index.html), but it is beyond the scope of this exercise.\n",
    "\n",
    "**Note:** The code below will try 60 different configurations. Some of them are executed at multiple budgets, which results in about 80 model training. Therefore it might take a while (15-45 minutes on a laptop). If you are interested in how BOHB works, checkout [BOHB (Falkner et al. 2018)](http://proceedings.mlr.press/v80/falkner18a.html).\n",
    "\n",
    "**Note 2:** You can see the progress in the debug output below. The configuration identifier (called `config_id` in the docs) is a three-tuple `(current iteration, resampling in case of error, sample)`. "
   ]
  },
  {
   "cell_type": "code",
   "execution_count": 122,
   "metadata": {},
   "outputs": [],
   "source": [
    "result_file = os.path.join(working_dir, 'bohb_result.pkl')\n",
    "nic_name = 'lo0'\n",
    "port = 0\n",
    "run_id = 'bohb_run_1'\n",
    "n_bohb_iterations = 12"
   ]
  },
  {
   "cell_type": "code",
   "execution_count": null,
   "metadata": {},
   "outputs": [],
   "source": [
    "try:\n",
    "    # Start a nameserver\n",
    "    host = hpns.nic_name_to_host(nic_name)\n",
    "    ns = hpns.NameServer(run_id=run_id, host=host, port=port,\n",
    "                         working_directory=working_dir)\n",
    "    ns_host, ns_port = ns.start()\n",
    "\n",
    "    # Start local worker\n",
    "    w = PyTorchWorker(run_id=run_id, host=host, nameserver=ns_host,\n",
    "                      nameserver_port=ns_port, timeout=120)\n",
    "    w.run(background=True)\n",
    "\n",
    "    # Run an optimizer\n",
    "    bohb = BOHB(configspace=worker.get_configspace(),\n",
    "                run_id=run_id,\n",
    "                host=host,\n",
    "                nameserver=ns_host,\n",
    "                nameserver_port=ns_port,\n",
    "                min_budget=min_budget, max_budget=max_budget)\n",
    "\n",
    "    result = bohb.run(n_iterations=n_bohb_iterations)\n",
    "    print(\"Write result to file {}\".format(result_file))\n",
    "    with open(result_file, 'wb') as f:\n",
    "        pickle.dump(result, f)\n",
    "finally:\n",
    "    bohb.shutdown(shutdown_workers=True)\n",
    "    ns.shutdown()"
   ]
  },
  {
   "cell_type": "markdown",
   "metadata": {},
   "source": [
    "### Your Feedback on Exercise 9\n"
   ]
  },
  {
   "cell_type": "code",
   "execution_count": null,
   "metadata": {
    "collapsed": true
   },
   "outputs": [],
   "source": []
  }
 ],
 "metadata": {
  "kernelspec": {
   "display_name": "Python 3",
   "language": "python",
   "name": "python3"
  },
  "language_info": {
   "codemirror_mode": {
    "name": "ipython",
    "version": 3
   },
   "file_extension": ".py",
   "mimetype": "text/x-python",
   "name": "python",
   "nbconvert_exporter": "python",
   "pygments_lexer": "ipython3",
   "version": "3.7.4"
  }
 },
 "nbformat": 4,
 "nbformat_minor": 2
}
